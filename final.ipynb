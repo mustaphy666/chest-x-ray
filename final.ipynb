{
 "cells": [
  {
   "cell_type": "code",
   "execution_count": 43,
   "id": "e155f23a",
   "metadata": {},
   "outputs": [],
   "source": [
    "from PIL import Image\n",
    "import torch\n",
    "import torchvision.transforms as transforms\n",
    "import torch.nn as nn\n",
    "import torchvision.models as models\n",
    "\n",
    "device = torch.device(\"cuda\" if torch.cuda.is_available() else \"cpu\")\n",
    "\n",
    "# Same transform as training\n",
    "img_transform = transforms.Compose([\n",
    "    transforms.Resize((64, 64)),\n",
    "    transforms.Grayscale(num_output_channels=1),\n",
    "    transforms.ToTensor(),\n",
    "    transforms.Normalize([0.5], [0.5])\n",
    "])\n",
    "\n",
    "# Load X-ray filter model\n",
    "def load_xray_filter():\n",
    "    model = models.resnet50(pretrained=False)\n",
    "    model.conv1 = nn.Conv2d(1, 64, 7, 2, 3, bias=False)\n",
    "    model.fc = nn.Sequential(\n",
    "        nn.Linear(model.fc.in_features, 500),\n",
    "        nn.ReLU(),\n",
    "        nn.Dropout(),\n",
    "        nn.Linear(500, 2)\n",
    "    )\n",
    "\n",
    "    model.load_state_dict(torch.load(\"xray_filter.pth\", map_location=device))\n",
    "    model.to(device)\n",
    "    model.eval()\n",
    "    return model\n",
    "\n",
    "# Load pneumonia model\n",
    "def load_pneumonia_model():\n",
    "    model = models.resnet50(pretrained=False)\n",
    "    model.conv1 = nn.Conv2d(1, 64, 7, 2, 3, bias=False)\n",
    "    model.fc = nn.Sequential(\n",
    "        nn.Linear(model.fc.in_features, 500),\n",
    "        nn.ReLU(),\n",
    "        nn.Dropout(),\n",
    "        nn.Linear(500, 2)\n",
    "    )\n",
    "    model.load_state_dict(torch.load(\"pneumoina_model.pth\", map_location=device))\n",
    "    model.to(device)\n",
    "    model.eval()\n",
    "    return model\n",
    "\n",
    "# Inference pipeline\n",
    "def predict_image(image_path):\n",
    "    img = Image.open(image_path).convert(\"L\")  # Convert to grayscale\n",
    "    img_tensor = img_transform(img).unsqueeze(0).to(device)\n",
    "\n",
    "    # Stage 1: Run X-ray filter\n",
    "    xray_filter = load_xray_filter()\n",
    "    with torch.no_grad():\n",
    "        pred = xray_filter(img_tensor)\n",
    "        pred_label = torch.argmax(pred, dim=1).item()\n",
    "        print(pred_label)\n",
    "    if pred_label == 1:\n",
    "        print(\"❌ This is not a valid chest X-ray image. Please upload a proper medical image.\")\n",
    "       \n",
    "        return\n",
    "\n",
    "    # Stage 2: Pneumonia prediction\n",
    "    pneumonia_model = load_pneumonia_model()\n",
    "    with torch.no_grad():\n",
    "        output = pneumonia_model(img_tensor)\n",
    "        label = torch.argmax(output, dim=1).item()\n",
    "\n",
    "    classes = [\"Normal\", \"Pneumonia\"]\n",
    "    print(f\"✅ Prediction: {classes[label]}\")\n"
   ]
  },
  {
   "cell_type": "code",
   "execution_count": 46,
   "id": "26d8a90e",
   "metadata": {},
   "outputs": [
    {
     "name": "stderr",
     "output_type": "stream",
     "text": [
      "c:\\Users\\Administrator\\AppData\\Local\\Programs\\Python\\Python313\\Lib\\site-packages\\torchvision\\models\\_utils.py:208: UserWarning: The parameter 'pretrained' is deprecated since 0.13 and may be removed in the future, please use 'weights' instead.\n",
      "  warnings.warn(\n",
      "c:\\Users\\Administrator\\AppData\\Local\\Programs\\Python\\Python313\\Lib\\site-packages\\torchvision\\models\\_utils.py:223: UserWarning: Arguments other than a weight enum or `None` for 'weights' are deprecated since 0.13 and may be removed in the future. The current behavior is equivalent to passing `weights=None`.\n",
      "  warnings.warn(msg)\n"
     ]
    },
    {
     "name": "stdout",
     "output_type": "stream",
     "text": [
      "1\n",
      "❌ This is not a valid chest X-ray image. Please upload a proper medical image.\n"
     ]
    }
   ],
   "source": [
    "predict_image('C:\\\\Users\\\\Administrator\\\\Downloads\\\\zophie.png')"
   ]
  }
 ],
 "metadata": {
  "kernelspec": {
   "display_name": "Python 3",
   "language": "python",
   "name": "python3"
  },
  "language_info": {
   "codemirror_mode": {
    "name": "ipython",
    "version": 3
   },
   "file_extension": ".py",
   "mimetype": "text/x-python",
   "name": "python",
   "nbconvert_exporter": "python",
   "pygments_lexer": "ipython3",
   "version": "3.13.3"
  }
 },
 "nbformat": 4,
 "nbformat_minor": 5
}
